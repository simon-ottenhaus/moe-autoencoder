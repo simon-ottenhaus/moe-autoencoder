{
 "cells": [
  {
   "cell_type": "code",
   "execution_count": null,
   "metadata": {},
   "outputs": [],
   "source": [
    "import numpy as np\n",
    "import numpy.typing as npt\n",
    "import matplotlib.pyplot as plt\n",
    "from matplotlib.axes import Axes\n",
    "from pydantic import BaseModel\n",
    "from pathlib import Path"
   ]
  },
  {
   "cell_type": "markdown",
   "metadata": {},
   "source": [
    "# Helper class to represent results"
   ]
  },
  {
   "cell_type": "code",
   "execution_count": null,
   "metadata": {},
   "outputs": [],
   "source": [
    "class RunResult(BaseModel):\n",
    "    name: str\n",
    "    inputs: npt.NDArray\n",
    "    x_hat: npt.NDArray\n",
    "    router_logits: npt.NDArray\n",
    "    expert_outputs: npt.NDArray\n",
    "    generator_function_name: str\n",
    "    num_experts: int\n",
    "    epoch_nr: int\n",
    "    \n",
    "    class Config:\n",
    "        arbitrary_types_allowed = True\n",
    "\n",
    "    \n",
    "\n",
    "    @classmethod\n",
    "    def from_path(cls, data_path: Path) -> \"RunResult\":\n",
    "        data = np.load(data_path)\n",
    "        epoch_nr = int(data_path.stem.split(\"_\")[-1])\n",
    "        generator_function_name = data_path.parent.name.split(\"-\")[0]\n",
    "        num_experts = int(data_path.parent.name.split(\"-\")[1])\n",
    "        return cls(\n",
    "            name=data_path.stem,\n",
    "            inputs=data[\"inputs\"],\n",
    "            x_hat=data[\"x_hat\"],\n",
    "            router_logits=data[\"router_logits\"],\n",
    "            expert_outputs=data[\"expert_outputs\"],\n",
    "            generator_function_name=generator_function_name,\n",
    "            num_experts=num_experts,\n",
    "            epoch_nr=epoch_nr,\n",
    "            \n",
    "        )\n",
    "    \n",
    "    def matches(self, generator_function_name: str | None = None, num_experts: int | None = None, epoch_nr: int | None = None) -> bool:\n",
    "        if generator_function_name is not None and self.generator_function_name != generator_function_name:\n",
    "            return False\n",
    "        if num_experts is not None and self.num_experts != num_experts:\n",
    "            return False\n",
    "        if epoch_nr is not None and self.epoch_nr != epoch_nr:\n",
    "            return False\n",
    "        return True\n",
    "    \n",
    "    def plot_predictions(self, ax: Axes, expert_label_fmt=\"Predicted Expert {}\") -> None:\n",
    "        ax.set_aspect(\"equal\")\n",
    "        pred_expert_nr = self.router_logits.argmax(axis=1)\n",
    "        ax.scatter(self.inputs[:, 0], self.inputs[:, 1], label=\"Input\")\n",
    "        num_experts = pred_expert_nr.max() + 1\n",
    "        for i in range(num_experts):\n",
    "            expert_mask = pred_expert_nr == i\n",
    "            ax.scatter(self.x_hat[expert_mask, 0], self.x_hat[expert_mask, 1], label=expert_label_fmt.format(i))\n",
    "        max_lines = 100\n",
    "        step = max(len(self.inputs) // max_lines, 1)\n",
    "        for i in range(0, len(self.inputs), step):\n",
    "            ax.plot([self.inputs[i, 0], self.x_hat[i, 0]], [self.inputs[i, 1], self.x_hat[i, 1]], c=\"black\", alpha=0.1)\n",
    "\n",
    "\n",
    "class RunResults(BaseModel):\n",
    "    runs: list[RunResult]\n",
    "\n",
    "    @classmethod\n",
    "    def from_path(cls, data_path: Path) -> \"RunResults\":\n",
    "        runs = [RunResult.from_path(p) for p in sorted(data_path.rglob(\"*.npz\"))]\n",
    "        return cls(runs=runs)\n",
    "    \n",
    "    def where(self, generator_function_name: str | None = None, num_experts: int | None = None, epoch_nr: int | None = None) -> \"RunResults\":\n",
    "        runs = [r for r in self.runs if r.matches(generator_function_name, num_experts, epoch_nr)]\n",
    "        return RunResults(runs=runs)\n",
    "    \n",
    "    def unique_generator_function_names(self) -> list[str]:\n",
    "        return sorted(set([r.generator_function_name for r in self.runs]))\n",
    "    \n",
    "    def unique_num_experts(self) -> list[int]:\n",
    "        return sorted(set([r.num_experts for r in self.runs]))\n",
    "    \n",
    "    def unique_epoch_nrs(self) -> list[int]:\n",
    "        return sorted(set([r.epoch_nr for r in self.runs]))\n",
    "    \n",
    "    def __str__(self) -> str:\n",
    "        return f\"RunResults(len={len(self.runs)}, generator_function_names={self.unique_generator_function_names()}, num_experts={self.unique_num_experts()}, epoch_nrs={self.unique_epoch_nrs()})\"\n",
    "    \n",
    "runs = RunResults.from_path(Path(\"models/\"))\n",
    "print(runs)"
   ]
  },
  {
   "cell_type": "markdown",
   "metadata": {},
   "source": [
    "# Plot vanilla AE results"
   ]
  },
  {
   "cell_type": "code",
   "execution_count": 24,
   "metadata": {},
   "outputs": [],
   "source": [
    "# plot 'vanilla' appraoch\n",
    "# row: generator function\n",
    "# n_rows=1\n",
    "# epoch_nr=4\n",
    "# num_experts=1\n",
    "\n",
    "epoch_nr = 4\n",
    "num_experts = 1\n",
    "subfigsize = 5\n",
    "n_rows = 1\n",
    "n_cols = len(runs.unique_generator_function_names())\n",
    "figsize = (n_cols * subfigsize, n_rows * subfigsize)\n",
    "fig, axes = plt.subplots(n_rows, n_cols, figsize=figsize)\n",
    "for i, generator_function_name in enumerate(runs.unique_generator_function_names()):\n",
    "    run = runs.where(generator_function_name, num_experts, epoch_nr).runs[0]\n",
    "    run.plot_predictions(axes[i], expert_label_fmt=\"Predicted\")\n",
    "    axes[i].set_title(f\"{generator_function_name}, vanilla AE, epoch {epoch_nr+1}\")\n",
    "    axes[i].legend()\n",
    "\n",
    "Path(\"figures\").mkdir(exist_ok=True)\n",
    "plt.tight_layout()\n",
    "plt.savefig(\"figures/vanilla_approach.png\")\n",
    "plt.close()"
   ]
  },
  {
   "cell_type": "markdown",
   "metadata": {},
   "source": [
    "# Plot MoE-AE representation evolution for circles\n",
    "- row: epoch\n",
    "- col: number of experts"
   ]
  },
  {
   "cell_type": "code",
   "execution_count": 25,
   "metadata": {},
   "outputs": [],
   "source": [
    "# plot circles\n",
    "# row: epoch nr\n",
    "# column: num experts\n",
    "\n",
    "generator_function_name = \"circle\"\n",
    "n_rows = len(runs.unique_epoch_nrs())\n",
    "n_cols = len(runs.unique_num_experts())\n",
    "subfigsize = 5\n",
    "figsize = (n_cols * subfigsize, n_rows * subfigsize)\n",
    "fig, axs = plt.subplots(n_rows, n_cols, figsize=figsize)\n",
    "for i, epoch_nr in enumerate(runs.unique_epoch_nrs()):\n",
    "    for j, num_experts in enumerate(runs.unique_num_experts()):\n",
    "        ax = axs[i, j]\n",
    "        run = runs.where(generator_function_name, num_experts, epoch_nr).runs[0]\n",
    "        run.plot_predictions(ax)\n",
    "        ax.set_title(f\"Epoch {epoch_nr+1}, {num_experts} Experts\")\n",
    "        ax.legend()\n",
    "\n",
    "Path(\"figures\").mkdir(exist_ok=True)\n",
    "\n",
    "plt.tight_layout()\n",
    "plt.savefig(\"figures/gridplot-circles.png\")\n",
    "plt.close()"
   ]
  },
  {
   "cell_type": "markdown",
   "metadata": {},
   "source": [
    "# Plot MoE-AE representation results after training\n",
    "- row: data type\n",
    "- col: number of experts"
   ]
  },
  {
   "cell_type": "code",
   "execution_count": 26,
   "metadata": {},
   "outputs": [],
   "source": [
    "epoch_nr = 4\n",
    "n_rows = len(runs.unique_generator_function_names())\n",
    "n_cols = len(runs.unique_num_experts())\n",
    "subfigsize = 5\n",
    "figsize = (n_cols * subfigsize, n_rows * subfigsize)\n",
    "fig, axs = plt.subplots(n_rows, n_cols, figsize=figsize)\n",
    "for i, generator_function_name in enumerate(runs.unique_generator_function_names()):\n",
    "    for j, num_experts in enumerate(runs.unique_num_experts()):\n",
    "        ax = axs[i, j]\n",
    "        run = runs.where(generator_function_name, num_experts, epoch_nr).runs[0]\n",
    "        run.plot_predictions(ax)\n",
    "        ax.set_title(f\"{generator_function_name}, {num_experts} Experts\")\n",
    "        ax.legend()\n",
    "\n",
    "plt.tight_layout()\n",
    "plt.savefig(\"figures/gridplot-functions.png\")\n",
    "plt.close()"
   ]
  }
 ],
 "metadata": {
  "kernelspec": {
   "display_name": "venv",
   "language": "python",
   "name": "python3"
  },
  "language_info": {
   "codemirror_mode": {
    "name": "ipython",
    "version": 3
   },
   "file_extension": ".py",
   "mimetype": "text/x-python",
   "name": "python",
   "nbconvert_exporter": "python",
   "pygments_lexer": "ipython3",
   "version": "3.10.11"
  }
 },
 "nbformat": 4,
 "nbformat_minor": 2
}
